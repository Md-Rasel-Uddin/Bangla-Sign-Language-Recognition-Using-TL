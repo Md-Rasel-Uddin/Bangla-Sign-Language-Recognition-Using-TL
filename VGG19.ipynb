{
  "cells": [
    {
      "cell_type": "code",
      "source": [
        "from google.colab import drive\n",
        "drive.mount('/content/drive')"
      ],
      "metadata": {
        "colab": {
          "base_uri": "https://localhost:8080/"
        },
        "id": "5aQssMtnPSTH",
        "outputId": "074809cb-7e6c-4623-f218-5b5ff1d562a1"
      },
      "execution_count": null,
      "outputs": [
        {
          "output_type": "stream",
          "name": "stdout",
          "text": [
            "Mounted at /content/drive\n"
          ]
        }
      ]
    },
    {
      "cell_type": "code",
      "execution_count": null,
      "metadata": {
        "id": "9u5gWo8XOrbE"
      },
      "outputs": [],
      "source": [
        "######################"
      ]
    },
    {
      "cell_type": "code",
      "execution_count": null,
      "metadata": {
        "id": "4xSLyIOlOsSE"
      },
      "outputs": [],
      "source": [
        "from keras.layers import Input, Lambda, Dense, Flatten\n",
        "from keras.models import Model\n",
        "from keras.applications.vgg19 import VGG19\n",
        "from keras.applications.vgg19 import preprocess_input\n",
        "from keras.preprocessing import image\n",
        "from keras.preprocessing.image import ImageDataGenerator\n",
        "from keras.models import Sequential\n",
        "import numpy as np\n",
        "from glob import glob\n",
        "import matplotlib.pyplot as plt"
      ]
    },
    {
      "cell_type": "code",
      "execution_count": null,
      "metadata": {
        "id": "TDU4HAh6OsUd"
      },
      "outputs": [],
      "source": [
        "IMAGE_SIZE = [224, 224]"
      ]
    },
    {
      "cell_type": "code",
      "execution_count": null,
      "metadata": {
        "id": "4iwUdRDEOsWt"
      },
      "outputs": [],
      "source": [
        "train_path = '/content/drive/MyDrive/Research/FFF/Train'\n",
        "valid_path = '/content/drive/MyDrive/Research/FFF/Test'\n"
      ]
    },
    {
      "cell_type": "code",
      "execution_count": null,
      "metadata": {
        "colab": {
          "base_uri": "https://localhost:8080/"
        },
        "id": "xQrrjL3IOsZO",
        "outputId": "82736212-4b3a-4795-d66d-78f871199ede"
      },
      "outputs": [
        {
          "output_type": "stream",
          "name": "stdout",
          "text": [
            "Downloading data from https://storage.googleapis.com/tensorflow/keras-applications/vgg19/vgg19_weights_tf_dim_ordering_tf_kernels_notop.h5\n",
            "80142336/80134624 [==============================] - 0s 0us/step\n",
            "80150528/80134624 [==============================] - 0s 0us/step\n"
          ]
        }
      ],
      "source": [
        "vgg = VGG19(input_shape=IMAGE_SIZE + [3], weights='imagenet', include_top=False)\n"
      ]
    },
    {
      "cell_type": "code",
      "execution_count": null,
      "metadata": {
        "id": "cwYemc8lOsbU"
      },
      "outputs": [],
      "source": [
        "for layer in vgg.layers:\n",
        "  layer.trainable = False"
      ]
    },
    {
      "cell_type": "code",
      "execution_count": null,
      "metadata": {
        "id": "6WDA4_czPn5p"
      },
      "outputs": [],
      "source": [
        "folders = glob('/content/drive/MyDrive/Research/FFF/Train/*')"
      ]
    },
    {
      "cell_type": "code",
      "execution_count": null,
      "metadata": {
        "id": "0XGYvdMxPsYj"
      },
      "outputs": [],
      "source": [
        "x = Flatten()(vgg.output)\n",
        "# x = Dense(1000, activation='relu')(x)\n",
        "prediction = Dense(len(folders), activation='softmax')(x)\n"
      ]
    },
    {
      "cell_type": "code",
      "execution_count": null,
      "metadata": {
        "id": "JbkX5xJAPuTr"
      },
      "outputs": [],
      "source": [
        "model = Model(inputs=vgg.input, outputs=prediction)\n"
      ]
    },
    {
      "cell_type": "code",
      "execution_count": null,
      "metadata": {
        "colab": {
          "base_uri": "https://localhost:8080/"
        },
        "id": "T3lKv881PyCT",
        "outputId": "dc41c89c-58f1-4259-a4d6-a0a16cc13bd2"
      },
      "outputs": [
        {
          "output_type": "stream",
          "name": "stdout",
          "text": [
            "Model: \"model\"\n",
            "_________________________________________________________________\n",
            " Layer (type)                Output Shape              Param #   \n",
            "=================================================================\n",
            " input_1 (InputLayer)        [(None, 224, 224, 3)]     0         \n",
            "                                                                 \n",
            " block1_conv1 (Conv2D)       (None, 224, 224, 64)      1792      \n",
            "                                                                 \n",
            " block1_conv2 (Conv2D)       (None, 224, 224, 64)      36928     \n",
            "                                                                 \n",
            " block1_pool (MaxPooling2D)  (None, 112, 112, 64)      0         \n",
            "                                                                 \n",
            " block2_conv1 (Conv2D)       (None, 112, 112, 128)     73856     \n",
            "                                                                 \n",
            " block2_conv2 (Conv2D)       (None, 112, 112, 128)     147584    \n",
            "                                                                 \n",
            " block2_pool (MaxPooling2D)  (None, 56, 56, 128)       0         \n",
            "                                                                 \n",
            " block3_conv1 (Conv2D)       (None, 56, 56, 256)       295168    \n",
            "                                                                 \n",
            " block3_conv2 (Conv2D)       (None, 56, 56, 256)       590080    \n",
            "                                                                 \n",
            " block3_conv3 (Conv2D)       (None, 56, 56, 256)       590080    \n",
            "                                                                 \n",
            " block3_conv4 (Conv2D)       (None, 56, 56, 256)       590080    \n",
            "                                                                 \n",
            " block3_pool (MaxPooling2D)  (None, 28, 28, 256)       0         \n",
            "                                                                 \n",
            " block4_conv1 (Conv2D)       (None, 28, 28, 512)       1180160   \n",
            "                                                                 \n",
            " block4_conv2 (Conv2D)       (None, 28, 28, 512)       2359808   \n",
            "                                                                 \n",
            " block4_conv3 (Conv2D)       (None, 28, 28, 512)       2359808   \n",
            "                                                                 \n",
            " block4_conv4 (Conv2D)       (None, 28, 28, 512)       2359808   \n",
            "                                                                 \n",
            " block4_pool (MaxPooling2D)  (None, 14, 14, 512)       0         \n",
            "                                                                 \n",
            " block5_conv1 (Conv2D)       (None, 14, 14, 512)       2359808   \n",
            "                                                                 \n",
            " block5_conv2 (Conv2D)       (None, 14, 14, 512)       2359808   \n",
            "                                                                 \n",
            " block5_conv3 (Conv2D)       (None, 14, 14, 512)       2359808   \n",
            "                                                                 \n",
            " block5_conv4 (Conv2D)       (None, 14, 14, 512)       2359808   \n",
            "                                                                 \n",
            " block5_pool (MaxPooling2D)  (None, 7, 7, 512)         0         \n",
            "                                                                 \n",
            " flatten (Flatten)           (None, 25088)             0         \n",
            "                                                                 \n",
            " dense (Dense)               (None, 11)                275979    \n",
            "                                                                 \n",
            "=================================================================\n",
            "Total params: 20,300,363\n",
            "Trainable params: 275,979\n",
            "Non-trainable params: 20,024,384\n",
            "_________________________________________________________________\n"
          ]
        }
      ],
      "source": [
        "model.summary()\n"
      ]
    },
    {
      "cell_type": "code",
      "execution_count": null,
      "metadata": {
        "id": "7QHgB0yCPzWD"
      },
      "outputs": [],
      "source": [
        "model.compile(\n",
        "  loss='categorical_crossentropy',\n",
        "  optimizer='adam',\n",
        "  metrics=['accuracy']\n",
        ")"
      ]
    },
    {
      "cell_type": "code",
      "execution_count": null,
      "metadata": {
        "colab": {
          "base_uri": "https://localhost:8080/"
        },
        "id": "LVSswf3EP6rQ",
        "outputId": "9909dbd0-dc79-460f-ccc8-0e073e51b7c5"
      },
      "outputs": [
        {
          "output_type": "stream",
          "name": "stdout",
          "text": [
            "Found 3835 images belonging to 11 classes.\n",
            "Found 764 images belonging to 11 classes.\n"
          ]
        }
      ],
      "source": [
        "\n",
        "from keras.preprocessing.image import ImageDataGenerator\n",
        "\n",
        "train_datagen = ImageDataGenerator(rescale = 1./255,\n",
        "                                   shear_range = 0.2,\n",
        "                                   zoom_range = 0.2,\n",
        "                                   horizontal_flip = True)\n",
        "\n",
        "test_datagen = ImageDataGenerator(rescale = 1./255)\n",
        "\n",
        "training_set = train_datagen.flow_from_directory('/content/drive/MyDrive/Research/FFF/Train',\n",
        "                                                 target_size = (224, 224),\n",
        "                                                 batch_size = 128,\n",
        "                                                 class_mode = 'categorical')\n",
        "\n",
        "test_set = test_datagen.flow_from_directory('/content/drive/MyDrive/Research/FFF/Test',\n",
        "                                            target_size = (224, 224),\n",
        "                                            batch_size = 128,\n",
        "                                            class_mode = 'categorical')"
      ]
    },
    {
      "cell_type": "code",
      "execution_count": null,
      "metadata": {
        "colab": {
          "base_uri": "https://localhost:8080/"
        },
        "id": "MSIJYXG1QLiT",
        "outputId": "98eeba08-5318-4717-c8cd-d7dc8f5d4773"
      },
      "outputs": [
        {
          "output_type": "stream",
          "name": "stdout",
          "text": [
            "Epoch 1/25\n",
            "30/30 [==============================] - 1544s 51s/step - loss: 1.7125 - accuracy: 0.4780 - val_loss: 1.0914 - val_accuracy: 0.6440\n",
            "Epoch 2/25\n",
            "30/30 [==============================] - 60s 2s/step - loss: 0.6293 - accuracy: 0.8263 - val_loss: 0.8829 - val_accuracy: 0.7487\n",
            "Epoch 3/25\n",
            "30/30 [==============================] - 60s 2s/step - loss: 0.4293 - accuracy: 0.8973 - val_loss: 0.7064 - val_accuracy: 0.8010\n",
            "Epoch 4/25\n",
            "30/30 [==============================] - 60s 2s/step - loss: 0.3339 - accuracy: 0.9213 - val_loss: 0.5963 - val_accuracy: 0.8285\n",
            "Epoch 5/25\n",
            "30/30 [==============================] - 59s 2s/step - loss: 0.2686 - accuracy: 0.9411 - val_loss: 0.5457 - val_accuracy: 0.8351\n",
            "Epoch 6/25\n",
            "30/30 [==============================] - 59s 2s/step - loss: 0.2371 - accuracy: 0.9502 - val_loss: 0.5254 - val_accuracy: 0.8377\n",
            "Epoch 7/25\n",
            "30/30 [==============================] - 60s 2s/step - loss: 0.1976 - accuracy: 0.9625 - val_loss: 0.5319 - val_accuracy: 0.8469\n",
            "Epoch 8/25\n",
            "30/30 [==============================] - 59s 2s/step - loss: 0.1657 - accuracy: 0.9703 - val_loss: 0.5554 - val_accuracy: 0.8482\n",
            "Epoch 9/25\n",
            "30/30 [==============================] - 58s 2s/step - loss: 0.1552 - accuracy: 0.9684 - val_loss: 0.4521 - val_accuracy: 0.8822\n",
            "Epoch 10/25\n",
            "30/30 [==============================] - 60s 2s/step - loss: 0.1355 - accuracy: 0.9773 - val_loss: 0.4480 - val_accuracy: 0.8861\n",
            "Epoch 11/25\n",
            "30/30 [==============================] - 60s 2s/step - loss: 0.1213 - accuracy: 0.9797 - val_loss: 0.4895 - val_accuracy: 0.8770\n",
            "Epoch 12/25\n",
            "30/30 [==============================] - 58s 2s/step - loss: 0.1077 - accuracy: 0.9802 - val_loss: 0.4660 - val_accuracy: 0.8822\n",
            "Epoch 13/25\n",
            "30/30 [==============================] - 58s 2s/step - loss: 0.1016 - accuracy: 0.9854 - val_loss: 0.4402 - val_accuracy: 0.8887\n",
            "Epoch 14/25\n",
            "30/30 [==============================] - 60s 2s/step - loss: 0.0893 - accuracy: 0.9867 - val_loss: 0.4452 - val_accuracy: 0.8914\n",
            "Epoch 15/25\n",
            "30/30 [==============================] - 60s 2s/step - loss: 0.0906 - accuracy: 0.9833 - val_loss: 0.4665 - val_accuracy: 0.8757\n",
            "Epoch 16/25\n",
            "30/30 [==============================] - 58s 2s/step - loss: 0.0743 - accuracy: 0.9898 - val_loss: 0.3462 - val_accuracy: 0.9175\n",
            "Epoch 17/25\n",
            "30/30 [==============================] - 60s 2s/step - loss: 0.0636 - accuracy: 0.9937 - val_loss: 0.4127 - val_accuracy: 0.9045\n",
            "Epoch 18/25\n",
            "30/30 [==============================] - 60s 2s/step - loss: 0.0633 - accuracy: 0.9919 - val_loss: 0.3673 - val_accuracy: 0.9136\n",
            "Epoch 19/25\n",
            "30/30 [==============================] - 59s 2s/step - loss: 0.0644 - accuracy: 0.9906 - val_loss: 0.4199 - val_accuracy: 0.8953\n",
            "Epoch 20/25\n",
            "30/30 [==============================] - 59s 2s/step - loss: 0.0592 - accuracy: 0.9924 - val_loss: 0.4107 - val_accuracy: 0.9018\n",
            "Epoch 21/25\n",
            "30/30 [==============================] - 60s 2s/step - loss: 0.0567 - accuracy: 0.9924 - val_loss: 0.3885 - val_accuracy: 0.9123\n",
            "Epoch 22/25\n",
            "30/30 [==============================] - 60s 2s/step - loss: 0.0501 - accuracy: 0.9948 - val_loss: 0.3837 - val_accuracy: 0.9084\n",
            "Epoch 23/25\n",
            "30/30 [==============================] - 59s 2s/step - loss: 0.0461 - accuracy: 0.9958 - val_loss: 0.3882 - val_accuracy: 0.9110\n",
            "Epoch 24/25\n",
            "30/30 [==============================] - 59s 2s/step - loss: 0.0453 - accuracy: 0.9935 - val_loss: 0.4123 - val_accuracy: 0.9045\n",
            "Epoch 25/25\n",
            "30/30 [==============================] - 59s 2s/step - loss: 0.0431 - accuracy: 0.9958 - val_loss: 0.3917 - val_accuracy: 0.9162\n"
          ]
        }
      ],
      "source": [
        "r = model.fit(\n",
        "  training_set,\n",
        "  validation_data=test_set,\n",
        "  epochs=25,\n",
        "  steps_per_epoch=len(training_set),\n",
        "  validation_steps=len(test_set)\n",
        ")"
      ]
    },
    {
      "cell_type": "code",
      "execution_count": null,
      "metadata": {
        "colab": {
          "base_uri": "https://localhost:8080/",
          "height": 312
        },
        "id": "haKv3mDFQSTb",
        "outputId": "eaf5d8a9-972f-4417-c4d1-5928347192c0"
      },
      "outputs": [
        {
          "output_type": "display_data",
          "data": {
            "text/plain": [
              "<Figure size 432x288 with 1 Axes>"
            ],
            "image/png": "[encoded data removed]"
          },
          "metadata": {
            "needs_background": "light"
          }
        },
        {
          "output_type": "display_data",
          "data": {
            "text/plain": [
              "<Figure size 432x288 with 0 Axes>"
            ]
          },
          "metadata": {}
        }
      ],
      "source": [
        "# loss\n",
        "plt.plot(r.history['loss'],'o-', label='Train loss')\n",
        "plt.plot(r.history['val_loss'],'o-', label='Validation loss')\n",
        "plt.title(\"Loss of Model VGG19\")\n",
        "plt.xlabel(\"Epoch\")\n",
        "plt.ylabel(\"Loss\")\n",
        "plt.legend()\n",
        "plt.show()\n",
        "plt.savefig('LossVal_loss2')\n",
        "\n",
        "\n",
        "\n"
      ]
    },
    {
      "cell_type": "code",
      "source": [
        "# accuracy\n",
        "plt.plot(r.history['accuracy'],'o-', label='Train accuracy')\n",
        "plt.plot(r.history['val_accuracy'],'o-', label='Val accuracy')\n",
        "plt.title(\"Accuracy of Model VGG19\")\n",
        "plt.xlabel('Epoch')\n",
        "plt.ylabel('Accuracy')\n",
        "plt.legend()\n",
        "plt.show()\n",
        "plt.savefig('AccVal_acc')\n"
      ],
      "metadata": {
        "colab": {
          "base_uri": "https://localhost:8080/",
          "height": 312
        },
        "id": "9c-xpCHCbReA",
        "outputId": "b7e10547-de96-4407-c997-88a187d3487b"
      },
      "execution_count": null,
      "outputs": [
        {
          "output_type": "display_data",
          "data": {
            "text/plain": [
              "<Figure size 432x288 with 1 Axes>"
            ],
            "image/png": "[encoded data removed]"
          },
          "metadata": {
            "needs_background": "light"
          }
        },
        {
          "output_type": "display_data",
          "data": {
            "text/plain": [
              "<Figure size 432x288 with 0 Axes>"
            ]
          },
          "metadata": {}
        }
      ]
    },
    {
      "cell_type": "code",
      "source": [
        "from sklearn.metrics import confusion_matrix\n",
        "import seaborn as sns\n",
        "\n",
        "val_ds = test_set\n",
        "x_test, y_test = next(val_ds)\n",
        "y_predict = model.predict(x_test)\n",
        "classes = np.argmax(y_predict, axis = 1)\n",
        "test = np.argmax(y_test, axis = 1)\n",
        "\n",
        "cf = confusion_matrix(test, classes)\n",
        "plt.figure(figsize=(12, 8))\n",
        "ax = sns.heatmap(cf, annot= True )\n",
        "\n",
        "plt.title('Confusion matrix of VGG19 Model', fontsize = 15) \n",
        "plt.xlabel('Predicted classes', fontsize = 10) \n",
        "plt.ylabel('Actual classes', fontsize = 10) \n",
        "\n",
        "plt.show()"
      ],
      "metadata": {
        "colab": {
          "base_uri": "https://localhost:8080/",
          "height": 515
        },
        "id": "SV2301JWbXM2",
        "outputId": "af08b7ef-cb97-43f3-e931-45d3c5993245"
      },
      "execution_count": null,
      "outputs": [
        {
          "output_type": "display_data",
          "data": {
            "text/plain": [
              "<Figure size 864x576 with 2 Axes>"
            ],
            "image/png": "[encoded data removed]"
          },
          "metadata": {
            "needs_background": "light"
          }
        }
      ]
    },
    {
      "cell_type": "code",
      "source": [
        ""
      ],
      "metadata": {
        "id": "yYAXkI87bXOO"
      },
      "execution_count": null,
      "outputs": []
    },
    {
      "cell_type": "code",
      "execution_count": null,
      "metadata": {
        "id": "wVvyTEvVoBE5"
      },
      "outputs": [],
      "source": [
        "\n",
        "import tensorflow as tf\n",
        "\n",
        "from keras.models import load_model\n",
        "\n",
        "model.save('25_vgg19_VGG19_facefeatures_new_model.h5')"
      ]
    },
    {
      "cell_type": "code",
      "source": [
        "########"
      ],
      "metadata": {
        "id": "rh9IRgq9UvR9"
      },
      "execution_count": null,
      "outputs": []
    },
    {
      "cell_type": "code",
      "source": [
        "from sklearn.metrics import accuracy_score\n",
        "print('the accuracy obtained on the test set is:', accuracy_score(classes,test))"
      ],
      "metadata": {
        "colab": {
          "base_uri": "https://localhost:8080/"
        },
        "id": "0a6HVwOtdOfY",
        "outputId": "76105c09-4e54-4eaa-fb30-ec8d5fc60317"
      },
      "execution_count": null,
      "outputs": [
        {
          "output_type": "stream",
          "name": "stdout",
          "text": [
            "the accuracy obtained on the test set is: 0.875\n"
          ]
        }
      ]
    },
    {
      "cell_type": "code",
      "source": [
        "from sklearn.metrics import classification_report\n",
        "print(classification_report(test, classes))"
      ],
      "metadata": {
        "colab": {
          "base_uri": "https://localhost:8080/"
        },
        "id": "elve3DPQdPDX",
        "outputId": "fde9953d-fca4-4684-9bf2-9b33eb0491b1"
      },
      "execution_count": null,
      "outputs": [
        {
          "output_type": "stream",
          "name": "stdout",
          "text": [
            "              precision    recall  f1-score   support\n",
            "\n",
            "           0       0.83      1.00      0.91         5\n",
            "           1       0.46      1.00      0.63         6\n",
            "           2       0.57      1.00      0.73         4\n",
            "           3       1.00      0.27      0.43        11\n",
            "           4       1.00      1.00      1.00         6\n",
            "           5       0.89      1.00      0.94         8\n",
            "           6       0.95      1.00      0.97        18\n",
            "           7       0.95      0.91      0.93        23\n",
            "           8       1.00      0.83      0.91        18\n",
            "           9       1.00      0.89      0.94        19\n",
            "          10       0.82      0.90      0.86        10\n",
            "\n",
            "    accuracy                           0.88       128\n",
            "   macro avg       0.86      0.89      0.84       128\n",
            "weighted avg       0.92      0.88      0.87       128\n",
            "\n"
          ]
        }
      ]
    },
    {
      "cell_type": "code",
      "source": [
        "def plot_confusion_matrix(y, y_pred):\n",
        "    cm = confusion_matrix(y, y_pred)\n",
        "    plt.figure(figsize = (15, 15))\n",
        "    ax = plt.subplot()\n",
        "    plt.imshow(cm, interpolation = 'nearest', cmap = plt.cm.Purples)\n",
        "    plt.colorbar()\n",
        "    plt.title(\"Confusion Matrix\")\n",
        "    #tick_marks = np.arange(len(labels))\n",
        "    #plt.xticks(tick_marks, labels, rotation=45)\n",
        "    #plt.yticks(tick_marks, labels)\n",
        "    plt.ylabel('True label')\n",
        "    plt.xlabel('Predicted label')\n",
        "    ax.title.set_fontsize(20)\n",
        "    ax.xaxis.label.set_fontsize(16)\n",
        "    ax.yaxis.label.set_fontsize(16)\n",
        "    limit = cm.max() / 2.\n",
        "    for i, j in itertools.product(range(cm.shape[0]), range(cm.shape[1])):\n",
        "        plt.text(j, i, format(cm[i, j], 'd'), horizontalalignment = \"center\",color = \"white\" if cm[i, j] > limit else \"black\")\n",
        "    plt.show()\n",
        "\n",
        "from sklearn.metrics import confusion_matrix\n",
        "import itertools\n",
        "\n",
        "y_test_pred = model.predict(x_test, batch_size = 128, verbose = 0)\n",
        "plot_confusion_matrix(test, classes)"
      ],
      "metadata": {
        "colab": {
          "base_uri": "https://localhost:8080/",
          "height": 852
        },
        "id": "-XU6AzBrdUPY",
        "outputId": "2e1fda95-74a4-4d6c-e852-f28ad2e32fb4"
      },
      "execution_count": null,
      "outputs": [
        {
          "output_type": "display_data",
          "data": {
            "text/plain": [
              "<Figure size 1080x1080 with 2 Axes>"
            ],
            "image/png": "[encoded data removed]"
          },
          "metadata": {
            "needs_background": "light"
          }
        }
      ]
    },
    {
      "cell_type": "code",
      "source": [
        "##### End #####"
      ],
      "metadata": {
        "id": "0AjvhmaUddMo"
      },
      "execution_count": null,
      "outputs": []
    },
    {
      "cell_type": "code",
      "source": [
        ""
      ],
      "metadata": {
        "id": "Or-5BZl1g7Tn"
      },
      "execution_count": null,
      "outputs": []
    }
  ],
  "metadata": {
    "accelerator": "GPU",
    "colab": {
      "name": "Copy_of_tr_VGG19.ipynb",
      "provenance": [],
      "collapsed_sections": []
    },
    "kernelspec": {
      "display_name": "Python 3",
      "name": "python3"
    },
    "language_info": {
      "name": "python"
    }
  },
  "nbformat": 4,
  "nbformat_minor": 0
}