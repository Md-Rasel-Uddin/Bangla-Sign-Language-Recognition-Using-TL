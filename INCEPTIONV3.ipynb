{
  "cells": [
    {
      "cell_type": "code",
      "source": [
        "from google.colab import drive\n",
        "drive.mount('/content/drive')"
      ],
      "metadata": {
        "colab": {
          "base_uri": "https://localhost:8080/"
        },
        "id": "B6ciWkfzWO9t",
        "outputId": "36087f81-fc7a-4e34-c646-322f8d7efc99"
      },
      "execution_count": null,
      "outputs": [
        {
          "output_type": "stream",
          "name": "stdout",
          "text": [
            "Mounted at /content/drive\n"
          ]
        }
      ]
    },
    {
      "cell_type": "code",
      "execution_count": null,
      "metadata": {
        "id": "4xSLyIOlOsSE"
      },
      "outputs": [],
      "source": [
        "from keras.layers import Input, Lambda, Dense, Flatten,Dropout\n",
        "from keras.models import Model\n",
        "from keras.applications.vgg16 import VGG16\n",
        "from keras.applications.vgg16 import preprocess_input\n",
        "from keras.preprocessing import image\n",
        "from keras.preprocessing.image import ImageDataGenerator\n",
        "from keras.models import Sequential\n",
        "import numpy as np\n",
        "from glob import glob\n",
        "import matplotlib.pyplot as plt\n",
        "\n",
        "\n",
        "from tensorflow.keras.applications.inception_v3 import InceptionV3"
      ]
    },
    {
      "cell_type": "code",
      "execution_count": null,
      "metadata": {
        "id": "TDU4HAh6OsUd"
      },
      "outputs": [],
      "source": [
        "IMAGE_SIZE = [224, 224]"
      ]
    },
    {
      "cell_type": "code",
      "execution_count": null,
      "metadata": {
        "id": "4iwUdRDEOsWt"
      },
      "outputs": [],
      "source": [
        "train_path = '/content/drive/MyDrive/Research/FFF/Train'\n",
        "valid_path = '/content/drive/MyDrive/Research/FFF/Test'\n"
      ]
    },
    {
      "cell_type": "code",
      "execution_count": null,
      "metadata": {
        "id": "xQrrjL3IOsZO",
        "colab": {
          "base_uri": "https://localhost:8080/"
        },
        "outputId": "6f568a41-1e6b-41ee-ef40-8a339d46a379"
      },
      "outputs": [
        {
          "output_type": "stream",
          "name": "stdout",
          "text": [
            "Downloading data from https://storage.googleapis.com/tensorflow/keras-applications/inception_v3/inception_v3_weights_tf_dim_ordering_tf_kernels_notop.h5\n",
            "87916544/87910968 [==============================] - 0s 0us/step\n",
            "87924736/87910968 [==============================] - 0s 0us/step\n"
          ]
        }
      ],
      "source": [
        "inception = InceptionV3(input_shape=IMAGE_SIZE + [3], weights='imagenet', include_top=False)\n"
      ]
    },
    {
      "cell_type": "code",
      "execution_count": null,
      "metadata": {
        "id": "cwYemc8lOsbU"
      },
      "outputs": [],
      "source": [
        "for layer in inception.layers:\n",
        "  layer.trainable = False"
      ]
    },
    {
      "cell_type": "code",
      "execution_count": null,
      "metadata": {
        "id": "6WDA4_czPn5p"
      },
      "outputs": [],
      "source": [
        "folders = glob('/content/drive/MyDrive/Research/FFF/Train/*')"
      ]
    },
    {
      "cell_type": "code",
      "execution_count": null,
      "metadata": {
        "id": "0XGYvdMxPsYj"
      },
      "outputs": [],
      "source": [
        "x = Flatten()(inception.output)\n",
        "#x = Dense(1000, activation='relu')(x)\n",
        "#x = Dropout(0.2)(x)\n",
        "#x = Dense(11, activation='softmax')(x)\n",
        "\n",
        "prediction = Dense(len(folders), activation='softmax')(x)\n"
      ]
    },
    {
      "cell_type": "code",
      "execution_count": null,
      "metadata": {
        "id": "JbkX5xJAPuTr"
      },
      "outputs": [],
      "source": [
        "model = Model(inputs=inception.input, outputs=prediction)\n"
      ]
    },
    {
      "cell_type": "code",
      "execution_count": null,
      "metadata": {
        "id": "T3lKv881PyCT"
      },
      "outputs": [],
      "source": [
        "model.summary()\n"
      ]
    },
    {
      "cell_type": "code",
      "execution_count": null,
      "metadata": {
        "id": "7QHgB0yCPzWD"
      },
      "outputs": [],
      "source": [
        "model.compile(\n",
        "  loss='categorical_crossentropy',\n",
        "  optimizer='adam',\n",
        "  metrics=['accuracy']\n",
        ")"
      ]
    },
    {
      "cell_type": "code",
      "execution_count": null,
      "metadata": {
        "colab": {
          "base_uri": "https://localhost:8080/"
        },
        "id": "LVSswf3EP6rQ",
        "outputId": "1e9ab22c-8fc6-41fd-d357-87a2fb3d17f1"
      },
      "outputs": [
        {
          "output_type": "stream",
          "name": "stdout",
          "text": [
            "Found 3835 images belonging to 11 classes.\n",
            "Found 764 images belonging to 11 classes.\n"
          ]
        }
      ],
      "source": [
        "\n",
        "from keras.preprocessing.image import ImageDataGenerator\n",
        "\n",
        "train_datagen = ImageDataGenerator(rescale = 1./255,\n",
        "                                   shear_range = 0.2,\n",
        "                                   zoom_range = 0.2,\n",
        "                                   horizontal_flip = True)\n",
        "\n",
        "test_datagen = ImageDataGenerator(rescale = 1./255)\n",
        "\n",
        "training_set = train_datagen.flow_from_directory('/content/drive/MyDrive/Research/FFF/Train',\n",
        "                                                 target_size = (224, 224),\n",
        "                                                 batch_size = 128,\n",
        "                                                 class_mode = 'categorical')\n",
        "\n",
        "test_set = test_datagen.flow_from_directory('/content/drive/MyDrive/Research/FFF/Test',\n",
        "                                            target_size = (224, 224),\n",
        "                                            batch_size = 128,\n",
        "                                            class_mode = 'categorical')"
      ]
    },
    {
      "cell_type": "code",
      "execution_count": null,
      "metadata": {
        "colab": {
          "base_uri": "https://localhost:8080/"
        },
        "id": "MSIJYXG1QLiT",
        "outputId": "052c7153-1766-4f6f-a486-59e8e879155b"
      },
      "outputs": [
        {
          "output_type": "stream",
          "name": "stdout",
          "text": [
            "Epoch 1/100\n",
            "30/30 [==============================] - 1514s 50s/step - loss: 8.1765 - accuracy: 0.4769 - val_loss: 1.9953 - val_accuracy: 0.7199\n",
            "Epoch 2/100\n",
            "30/30 [==============================] - 52s 2s/step - loss: 0.8819 - accuracy: 0.8516 - val_loss: 1.5248 - val_accuracy: 0.8115\n",
            "Epoch 3/100\n",
            "30/30 [==============================] - 52s 2s/step - loss: 0.2709 - accuracy: 0.9309 - val_loss: 1.4069 - val_accuracy: 0.8351\n",
            "Epoch 4/100\n",
            "30/30 [==============================] - 51s 2s/step - loss: 0.2094 - accuracy: 0.9445 - val_loss: 1.3685 - val_accuracy: 0.8364\n",
            "Epoch 5/100\n",
            "30/30 [==============================] - 52s 2s/step - loss: 0.0964 - accuracy: 0.9698 - val_loss: 0.8985 - val_accuracy: 0.8835\n",
            "Epoch 6/100\n",
            "30/30 [==============================] - 52s 2s/step - loss: 0.0835 - accuracy: 0.9763 - val_loss: 1.0666 - val_accuracy: 0.8717\n",
            "Epoch 7/100\n",
            "30/30 [==============================] - 52s 2s/step - loss: 0.1034 - accuracy: 0.9703 - val_loss: 1.1954 - val_accuracy: 0.8482\n",
            "Epoch 8/100\n",
            "30/30 [==============================] - 52s 2s/step - loss: 0.1070 - accuracy: 0.9677 - val_loss: 0.9115 - val_accuracy: 0.8992\n",
            "Epoch 9/100\n",
            "30/30 [==============================] - 51s 2s/step - loss: 0.0563 - accuracy: 0.9828 - val_loss: 0.7200 - val_accuracy: 0.8887\n",
            "Epoch 10/100\n",
            "30/30 [==============================] - 52s 2s/step - loss: 0.0471 - accuracy: 0.9828 - val_loss: 0.7729 - val_accuracy: 0.8940\n",
            "Epoch 11/100\n",
            "30/30 [==============================] - 51s 2s/step - loss: 0.0449 - accuracy: 0.9870 - val_loss: 0.9964 - val_accuracy: 0.8796\n",
            "Epoch 12/100\n",
            "30/30 [==============================] - 52s 2s/step - loss: 0.0380 - accuracy: 0.9870 - val_loss: 0.7540 - val_accuracy: 0.8861\n",
            "Epoch 13/100\n",
            "30/30 [==============================] - 52s 2s/step - loss: 0.0378 - accuracy: 0.9872 - val_loss: 0.8959 - val_accuracy: 0.8835\n",
            "Epoch 14/100\n",
            "30/30 [==============================] - 52s 2s/step - loss: 0.0460 - accuracy: 0.9846 - val_loss: 0.8762 - val_accuracy: 0.8848\n",
            "Epoch 15/100\n",
            "30/30 [==============================] - 51s 2s/step - loss: 0.0348 - accuracy: 0.9885 - val_loss: 0.7579 - val_accuracy: 0.8927\n",
            "Epoch 16/100\n",
            "30/30 [==============================] - 52s 2s/step - loss: 0.0638 - accuracy: 0.9820 - val_loss: 0.6773 - val_accuracy: 0.8953\n",
            "Epoch 17/100\n",
            "30/30 [==============================] - 52s 2s/step - loss: 0.0443 - accuracy: 0.9857 - val_loss: 0.8496 - val_accuracy: 0.8927\n",
            "Epoch 18/100\n",
            "30/30 [==============================] - 52s 2s/step - loss: 0.0342 - accuracy: 0.9898 - val_loss: 0.7682 - val_accuracy: 0.8927\n",
            "Epoch 19/100\n",
            "30/30 [==============================] - 51s 2s/step - loss: 0.0557 - accuracy: 0.9815 - val_loss: 1.0098 - val_accuracy: 0.8966\n",
            "Epoch 20/100\n",
            "30/30 [==============================] - 50s 2s/step - loss: 0.0376 - accuracy: 0.9888 - val_loss: 1.0437 - val_accuracy: 0.8691\n",
            "Epoch 21/100\n",
            "30/30 [==============================] - 52s 2s/step - loss: 0.0415 - accuracy: 0.9877 - val_loss: 1.0422 - val_accuracy: 0.8809\n",
            "Epoch 22/100\n",
            "30/30 [==============================] - 51s 2s/step - loss: 0.0564 - accuracy: 0.9849 - val_loss: 0.9373 - val_accuracy: 0.8979\n",
            "Epoch 23/100\n",
            "30/30 [==============================] - 53s 2s/step - loss: 0.0537 - accuracy: 0.9833 - val_loss: 1.1068 - val_accuracy: 0.8704\n",
            "Epoch 24/100\n",
            "30/30 [==============================] - 52s 2s/step - loss: 0.0810 - accuracy: 0.9789 - val_loss: 1.0564 - val_accuracy: 0.9005\n",
            "Epoch 25/100\n",
            "30/30 [==============================] - 51s 2s/step - loss: 0.0579 - accuracy: 0.9836 - val_loss: 1.2765 - val_accuracy: 0.8730\n",
            "Epoch 26/100\n",
            "30/30 [==============================] - 52s 2s/step - loss: 0.0832 - accuracy: 0.9810 - val_loss: 0.9280 - val_accuracy: 0.8940\n",
            "Epoch 27/100\n",
            "30/30 [==============================] - 51s 2s/step - loss: 0.0586 - accuracy: 0.9838 - val_loss: 1.1756 - val_accuracy: 0.8822\n",
            "Epoch 28/100\n",
            "30/30 [==============================] - 51s 2s/step - loss: 0.0763 - accuracy: 0.9815 - val_loss: 1.0913 - val_accuracy: 0.9018\n",
            "Epoch 29/100\n",
            "30/30 [==============================] - 52s 2s/step - loss: 0.0222 - accuracy: 0.9919 - val_loss: 1.1828 - val_accuracy: 0.8966\n",
            "Epoch 30/100\n",
            "30/30 [==============================] - 50s 2s/step - loss: 0.0431 - accuracy: 0.9901 - val_loss: 1.1006 - val_accuracy: 0.8887\n",
            "Epoch 31/100\n",
            "30/30 [==============================] - 52s 2s/step - loss: 0.0520 - accuracy: 0.9898 - val_loss: 1.0755 - val_accuracy: 0.8966\n",
            "Epoch 32/100\n",
            "30/30 [==============================] - 51s 2s/step - loss: 0.0530 - accuracy: 0.9859 - val_loss: 1.2130 - val_accuracy: 0.8848\n",
            "Epoch 33/100\n",
            "30/30 [==============================] - 51s 2s/step - loss: 0.0475 - accuracy: 0.9888 - val_loss: 0.9576 - val_accuracy: 0.9005\n",
            "Epoch 34/100\n",
            "30/30 [==============================] - 52s 2s/step - loss: 0.0565 - accuracy: 0.9849 - val_loss: 1.3323 - val_accuracy: 0.8770\n",
            "Epoch 35/100\n",
            "30/30 [==============================] - 52s 2s/step - loss: 0.0750 - accuracy: 0.9828 - val_loss: 2.1266 - val_accuracy: 0.8586\n",
            "Epoch 36/100\n",
            "30/30 [==============================] - 51s 2s/step - loss: 0.0511 - accuracy: 0.9870 - val_loss: 1.3960 - val_accuracy: 0.8835\n",
            "Epoch 37/100\n",
            "30/30 [==============================] - 52s 2s/step - loss: 0.0634 - accuracy: 0.9838 - val_loss: 1.1432 - val_accuracy: 0.9071\n",
            "Epoch 38/100\n",
            "30/30 [==============================] - 51s 2s/step - loss: 0.0382 - accuracy: 0.9909 - val_loss: 1.5287 - val_accuracy: 0.8743\n",
            "Epoch 39/100\n",
            "30/30 [==============================] - 52s 2s/step - loss: 0.0318 - accuracy: 0.9919 - val_loss: 1.2785 - val_accuracy: 0.8783\n",
            "Epoch 40/100\n",
            "30/30 [==============================] - 52s 2s/step - loss: 0.0467 - accuracy: 0.9885 - val_loss: 1.3240 - val_accuracy: 0.8848\n",
            "Epoch 41/100\n",
            "30/30 [==============================] - 51s 2s/step - loss: 0.1265 - accuracy: 0.9768 - val_loss: 1.3074 - val_accuracy: 0.8901\n",
            "Epoch 42/100\n",
            "30/30 [==============================] - 52s 2s/step - loss: 0.0716 - accuracy: 0.9846 - val_loss: 1.5692 - val_accuracy: 0.8822\n",
            "Epoch 43/100\n",
            "30/30 [==============================] - 50s 2s/step - loss: 0.0599 - accuracy: 0.9885 - val_loss: 1.6218 - val_accuracy: 0.8757\n",
            "Epoch 44/100\n",
            "30/30 [==============================] - 52s 2s/step - loss: 0.0734 - accuracy: 0.9885 - val_loss: 1.5439 - val_accuracy: 0.8953\n",
            "Epoch 45/100\n",
            "30/30 [==============================] - 52s 2s/step - loss: 0.0555 - accuracy: 0.9888 - val_loss: 1.3634 - val_accuracy: 0.8874\n",
            "Epoch 46/100\n",
            "30/30 [==============================] - 51s 2s/step - loss: 0.0297 - accuracy: 0.9927 - val_loss: 1.6429 - val_accuracy: 0.8914\n",
            "Epoch 47/100\n",
            "30/30 [==============================] - 52s 2s/step - loss: 0.0558 - accuracy: 0.9893 - val_loss: 2.1023 - val_accuracy: 0.8416\n",
            "Epoch 48/100\n",
            "30/30 [==============================] - 51s 2s/step - loss: 0.0603 - accuracy: 0.9872 - val_loss: 1.1006 - val_accuracy: 0.9110\n",
            "Epoch 49/100\n",
            "30/30 [==============================] - 52s 2s/step - loss: 0.0622 - accuracy: 0.9851 - val_loss: 2.5624 - val_accuracy: 0.8285\n",
            "Epoch 50/100\n",
            "30/30 [==============================] - 52s 2s/step - loss: 0.0465 - accuracy: 0.9870 - val_loss: 1.7168 - val_accuracy: 0.8704\n",
            "Epoch 51/100\n",
            "30/30 [==============================] - 51s 2s/step - loss: 0.0493 - accuracy: 0.9888 - val_loss: 1.4684 - val_accuracy: 0.9058\n",
            "Epoch 52/100\n",
            "30/30 [==============================] - 51s 2s/step - loss: 0.0378 - accuracy: 0.9906 - val_loss: 1.7263 - val_accuracy: 0.9058\n",
            "Epoch 53/100\n",
            "30/30 [==============================] - 52s 2s/step - loss: 0.0688 - accuracy: 0.9864 - val_loss: 1.5597 - val_accuracy: 0.8914\n",
            "Epoch 54/100\n",
            "30/30 [==============================] - 51s 2s/step - loss: 0.0521 - accuracy: 0.9901 - val_loss: 1.5129 - val_accuracy: 0.9149\n",
            "Epoch 55/100\n",
            "30/30 [==============================] - 51s 2s/step - loss: 0.0462 - accuracy: 0.9901 - val_loss: 1.3090 - val_accuracy: 0.9149\n",
            "Epoch 56/100\n",
            "30/30 [==============================] - 52s 2s/step - loss: 0.0566 - accuracy: 0.9877 - val_loss: 1.7596 - val_accuracy: 0.8691\n",
            "Epoch 57/100\n",
            "30/30 [==============================] - 51s 2s/step - loss: 0.1121 - accuracy: 0.9841 - val_loss: 2.5732 - val_accuracy: 0.8665\n",
            "Epoch 58/100\n",
            "30/30 [==============================] - 51s 2s/step - loss: 0.0930 - accuracy: 0.9846 - val_loss: 1.6893 - val_accuracy: 0.8874\n",
            "Epoch 59/100\n",
            "30/30 [==============================] - 51s 2s/step - loss: 0.0520 - accuracy: 0.9906 - val_loss: 2.1913 - val_accuracy: 0.8861\n",
            "Epoch 60/100\n",
            "30/30 [==============================] - 51s 2s/step - loss: 0.0375 - accuracy: 0.9909 - val_loss: 2.1439 - val_accuracy: 0.8809\n",
            "Epoch 61/100\n",
            "30/30 [==============================] - 51s 2s/step - loss: 0.0741 - accuracy: 0.9890 - val_loss: 1.1986 - val_accuracy: 0.9228\n",
            "Epoch 62/100\n",
            "30/30 [==============================] - 51s 2s/step - loss: 0.0488 - accuracy: 0.9911 - val_loss: 1.5750 - val_accuracy: 0.9045\n",
            "Epoch 63/100\n",
            "30/30 [==============================] - 52s 2s/step - loss: 0.0299 - accuracy: 0.9924 - val_loss: 2.2603 - val_accuracy: 0.8927\n",
            "Epoch 64/100\n",
            "30/30 [==============================] - 51s 2s/step - loss: 0.0484 - accuracy: 0.9922 - val_loss: 2.1748 - val_accuracy: 0.8757\n",
            "Epoch 65/100\n",
            "30/30 [==============================] - 52s 2s/step - loss: 0.0804 - accuracy: 0.9883 - val_loss: 2.6453 - val_accuracy: 0.8652\n",
            "Epoch 66/100\n",
            "30/30 [==============================] - 51s 2s/step - loss: 0.0637 - accuracy: 0.9890 - val_loss: 1.8184 - val_accuracy: 0.8953\n",
            "Epoch 67/100\n",
            "30/30 [==============================] - 51s 2s/step - loss: 0.0319 - accuracy: 0.9932 - val_loss: 1.7520 - val_accuracy: 0.9018\n",
            "Epoch 68/100\n",
            "30/30 [==============================] - 52s 2s/step - loss: 0.0272 - accuracy: 0.9961 - val_loss: 2.2533 - val_accuracy: 0.8861\n",
            "Epoch 69/100\n",
            "30/30 [==============================] - 53s 2s/step - loss: 0.0460 - accuracy: 0.9935 - val_loss: 2.0486 - val_accuracy: 0.8835\n",
            "Epoch 70/100\n",
            "30/30 [==============================] - 51s 2s/step - loss: 0.0586 - accuracy: 0.9904 - val_loss: 2.6122 - val_accuracy: 0.8639\n",
            "Epoch 71/100\n",
            "30/30 [==============================] - 52s 2s/step - loss: 0.0662 - accuracy: 0.9885 - val_loss: 2.0887 - val_accuracy: 0.8848\n",
            "Epoch 72/100\n",
            "30/30 [==============================] - 51s 2s/step - loss: 0.0454 - accuracy: 0.9909 - val_loss: 2.0743 - val_accuracy: 0.8835\n",
            "Epoch 73/100\n",
            "30/30 [==============================] - 51s 2s/step - loss: 0.0679 - accuracy: 0.9906 - val_loss: 2.3739 - val_accuracy: 0.8874\n",
            "Epoch 74/100\n",
            "30/30 [==============================] - 53s 2s/step - loss: 0.0357 - accuracy: 0.9927 - val_loss: 2.4381 - val_accuracy: 0.8770\n",
            "Epoch 75/100\n",
            "30/30 [==============================] - 52s 2s/step - loss: 0.0814 - accuracy: 0.9872 - val_loss: 2.0264 - val_accuracy: 0.8901\n",
            "Epoch 76/100\n",
            "30/30 [==============================] - 51s 2s/step - loss: 0.0546 - accuracy: 0.9930 - val_loss: 2.7705 - val_accuracy: 0.8573\n",
            "Epoch 77/100\n",
            "30/30 [==============================] - 52s 2s/step - loss: 0.0968 - accuracy: 0.9864 - val_loss: 2.0409 - val_accuracy: 0.8914\n",
            "Epoch 78/100\n",
            "30/30 [==============================] - 51s 2s/step - loss: 0.0818 - accuracy: 0.9890 - val_loss: 2.2920 - val_accuracy: 0.8927\n",
            "Epoch 79/100\n",
            "30/30 [==============================] - 52s 2s/step - loss: 0.0468 - accuracy: 0.9927 - val_loss: 2.6900 - val_accuracy: 0.8940\n",
            "Epoch 80/100\n",
            "30/30 [==============================] - 52s 2s/step - loss: 0.0489 - accuracy: 0.9932 - val_loss: 2.1056 - val_accuracy: 0.9162\n",
            "Epoch 81/100\n",
            "30/30 [==============================] - 50s 2s/step - loss: 0.1123 - accuracy: 0.9870 - val_loss: 2.6535 - val_accuracy: 0.8914\n",
            "Epoch 82/100\n",
            "30/30 [==============================] - 51s 2s/step - loss: 0.1739 - accuracy: 0.9776 - val_loss: 2.6558 - val_accuracy: 0.8652\n",
            "Epoch 83/100\n",
            "30/30 [==============================] - 50s 2s/step - loss: 0.0562 - accuracy: 0.9919 - val_loss: 2.1579 - val_accuracy: 0.9018\n",
            "Epoch 84/100\n",
            "30/30 [==============================] - 51s 2s/step - loss: 0.0832 - accuracy: 0.9893 - val_loss: 2.3679 - val_accuracy: 0.8901\n",
            "Epoch 85/100\n",
            "30/30 [==============================] - 52s 2s/step - loss: 0.0693 - accuracy: 0.9906 - val_loss: 2.3038 - val_accuracy: 0.8914\n",
            "Epoch 86/100\n",
            "30/30 [==============================] - 51s 2s/step - loss: 0.0538 - accuracy: 0.9924 - val_loss: 2.1125 - val_accuracy: 0.8979\n",
            "Epoch 87/100\n",
            "30/30 [==============================] - 51s 2s/step - loss: 0.0603 - accuracy: 0.9919 - val_loss: 2.3625 - val_accuracy: 0.8953\n",
            "Epoch 88/100\n",
            "30/30 [==============================] - 51s 2s/step - loss: 0.0510 - accuracy: 0.9917 - val_loss: 2.0119 - val_accuracy: 0.9084\n",
            "Epoch 89/100\n",
            "30/30 [==============================] - 51s 2s/step - loss: 0.0290 - accuracy: 0.9940 - val_loss: 2.3335 - val_accuracy: 0.9018\n",
            "Epoch 90/100\n",
            "30/30 [==============================] - 51s 2s/step - loss: 0.0673 - accuracy: 0.9898 - val_loss: 3.5818 - val_accuracy: 0.8665\n",
            "Epoch 91/100\n",
            "30/30 [==============================] - 52s 2s/step - loss: 0.1047 - accuracy: 0.9862 - val_loss: 1.4631 - val_accuracy: 0.9215\n",
            "Epoch 92/100\n",
            "30/30 [==============================] - 51s 2s/step - loss: 0.1604 - accuracy: 0.9807 - val_loss: 2.7033 - val_accuracy: 0.8979\n",
            "Epoch 93/100\n",
            "30/30 [==============================] - 50s 2s/step - loss: 0.0576 - accuracy: 0.9927 - val_loss: 3.1082 - val_accuracy: 0.8887\n",
            "Epoch 94/100\n",
            "30/30 [==============================] - 52s 2s/step - loss: 0.0597 - accuracy: 0.9937 - val_loss: 2.5219 - val_accuracy: 0.8979\n",
            "Epoch 95/100\n",
            "30/30 [==============================] - 50s 2s/step - loss: 0.0786 - accuracy: 0.9885 - val_loss: 3.1133 - val_accuracy: 0.8992\n",
            "Epoch 96/100\n",
            "30/30 [==============================] - 52s 2s/step - loss: 0.1333 - accuracy: 0.9836 - val_loss: 3.1693 - val_accuracy: 0.8743\n",
            "Epoch 97/100\n",
            "30/30 [==============================] - 51s 2s/step - loss: 0.0621 - accuracy: 0.9914 - val_loss: 2.0258 - val_accuracy: 0.9149\n",
            "Epoch 98/100\n",
            "30/30 [==============================] - 52s 2s/step - loss: 0.0456 - accuracy: 0.9958 - val_loss: 2.9106 - val_accuracy: 0.8927\n",
            "Epoch 99/100\n",
            "30/30 [==============================] - 53s 2s/step - loss: 0.0280 - accuracy: 0.9958 - val_loss: 3.9885 - val_accuracy: 0.8691\n",
            "Epoch 100/100\n",
            "30/30 [==============================] - 51s 2s/step - loss: 0.1041 - accuracy: 0.9870 - val_loss: 3.0370 - val_accuracy: 0.8822\n"
          ]
        }
      ],
      "source": [
        "r = model.fit(\n",
        "  training_set,\n",
        "  validation_data=test_set,\n",
        "  epochs=100,\n",
        "  steps_per_epoch=len(training_set),\n",
        "  validation_steps=len(test_set)\n",
        ")"
      ]
    },
    {
      "cell_type": "code",
      "execution_count": null,
      "metadata": {
        "colab": {
          "base_uri": "https://localhost:8080/",
          "height": 312
        },
        "id": "haKv3mDFQSTb",
        "outputId": "ea1900fb-219d-489b-a364-62c3d5684c1d"
      },
      "outputs": [
        {
          "output_type": "display_data",
          "data": {
            "text/plain": [
              "<Figure size 432x288 with 1 Axes>"
            ],
            "image/png": "[encoded data removed]"
          },
          "metadata": {
            "needs_background": "light"
          }
        },
        {
          "output_type": "display_data",
          "data": {
            "text/plain": [
              "<Figure size 432x288 with 0 Axes>"
            ]
          },
          "metadata": {}
        }
      ],
      "source": [
        "# loss\n",
        "plt.plot(r.history['loss'],'o-', label='Train loss')\n",
        "plt.plot(r.history['val_loss'],'o-', label='Validation loss')\n",
        "plt.title(\"Loss of Model InceptionV3\")\n",
        "plt.xlabel(\"Epoch\")\n",
        "plt.ylabel(\"Loss\")\n",
        "plt.legend()\n",
        "plt.show()\n",
        "plt.savefig('LossVal_loss2')\n"
      ]
    },
    {
      "cell_type": "code",
      "source": [
        "# accuracy\n",
        "plt.plot(r.history['accuracy'],'o-', label='Train accuracy')\n",
        "plt.plot(r.history['val_accuracy'],'o-', label='Val accuracy')\n",
        "plt.title(\"Accuracy of Model InceptionV3\")\n",
        "plt.xlabel('Epoch')\n",
        "plt.ylabel('Accuracy')\n",
        "plt.legend()\n",
        "plt.show()\n",
        "plt.savefig('AccVal_acc')\n"
      ],
      "metadata": {
        "colab": {
          "base_uri": "https://localhost:8080/",
          "height": 312
        },
        "id": "lJJSJLWwxEo8",
        "outputId": "34f0d6e9-61bf-4968-872e-4db73d3f2b61"
      },
      "execution_count": null,
      "outputs": [
        {
          "output_type": "display_data",
          "data": {
            "text/plain": [
              "<Figure size 432x288 with 1 Axes>"
            ],
            "image/png": "[encoded data removed]"
          },
          "metadata": {
            "needs_background": "light"
          }
        },
        {
          "output_type": "display_data",
          "data": {
            "text/plain": [
              "<Figure size 432x288 with 0 Axes>"
            ]
          },
          "metadata": {}
        }
      ]
    },
    {
      "cell_type": "code",
      "source": [
        "from sklearn.metrics import confusion_matrix\n",
        "import seaborn as sns\n",
        "\n",
        "val_ds = test_set\n",
        "x_test, y_test = next(val_ds)\n",
        "y_predict = model.predict(x_test)\n",
        "classes = np.argmax(y_predict, axis = 1)\n",
        "test = np.argmax(y_test, axis = 1)\n",
        "\n",
        "cf = confusion_matrix(test, classes)\n",
        "plt.figure(figsize=(12, 8))\n",
        "ax = sns.heatmap(cf, annot= True )\n",
        "\n",
        "plt.title('Confusion matrix of InceptionV3', fontsize = 15) \n",
        "plt.xlabel('Predicted classes', fontsize = 10) \n",
        "plt.ylabel('Actual classes', fontsize = 10) \n",
        "\n",
        "plt.show()"
      ],
      "metadata": {
        "colab": {
          "base_uri": "https://localhost:8080/",
          "height": 515
        },
        "id": "FZ8OFUb-xLM3",
        "outputId": "2584ee83-62b7-4cb6-a340-4b73fed11115"
      },
      "execution_count": null,
      "outputs": [
        {
          "output_type": "display_data",
          "data": {
            "text/plain": [
              "<Figure size 864x576 with 2 Axes>"
            ],
            "image/png": "[encoded data removed]"
          },
          "metadata": {
            "needs_background": "light"
          }
        }
      ]
    },
    {
      "cell_type": "code",
      "execution_count": null,
      "metadata": {
        "id": "wVvyTEvVoBE5"
      },
      "outputs": [],
      "source": [
        "\n",
        "import tensorflow as tf\n",
        "\n",
        "from keras.models import load_model\n",
        "\n",
        "model.save('100_inception_facefeatures_new_model.h5')"
      ]
    },
    {
      "cell_type": "code",
      "source": [
        "########## End ##############"
      ],
      "metadata": {
        "id": "1UJ8FRh6pu0f"
      },
      "execution_count": null,
      "outputs": []
    },
    {
      "cell_type": "code",
      "source": [
        "from sklearn.metrics import accuracy_score\n",
        "print('the accuracy obtained on the test set is:', accuracy_score(classes,test))"
      ],
      "metadata": {
        "id": "kHbvB3YYpu2_",
        "colab": {
          "base_uri": "https://localhost:8080/"
        },
        "outputId": "0da73481-753e-4446-fb62-a908f39db220"
      },
      "execution_count": null,
      "outputs": [
        {
          "output_type": "stream",
          "name": "stdout",
          "text": [
            "the accuracy obtained on the test set is: 0.828125\n"
          ]
        }
      ]
    },
    {
      "cell_type": "code",
      "source": [
        "from sklearn.metrics import classification_report\n",
        "print(classification_report(test, classes))"
      ],
      "metadata": {
        "id": "VF1P789Ppu5Z",
        "colab": {
          "base_uri": "https://localhost:8080/"
        },
        "outputId": "28f03601-5f92-4f11-d5e2-6fb92cca800c"
      },
      "execution_count": null,
      "outputs": [
        {
          "output_type": "stream",
          "name": "stdout",
          "text": [
            "              precision    recall  f1-score   support\n",
            "\n",
            "           0       0.29      1.00      0.44         2\n",
            "           1       1.00      1.00      1.00         6\n",
            "           2       0.56      1.00      0.71        10\n",
            "           3       1.00      0.29      0.44        14\n",
            "           4       1.00      1.00      1.00         3\n",
            "           5       0.90      0.90      0.90        10\n",
            "           6       1.00      1.00      1.00         9\n",
            "           7       0.86      1.00      0.92        18\n",
            "           8       1.00      1.00      1.00        13\n",
            "           9       1.00      0.62      0.77        24\n",
            "          10       0.77      0.89      0.83        19\n",
            "\n",
            "    accuracy                           0.83       128\n",
            "   macro avg       0.85      0.88      0.82       128\n",
            "weighted avg       0.89      0.83      0.82       128\n",
            "\n"
          ]
        }
      ]
    },
    {
      "cell_type": "code",
      "source": [
        "def plot_confusion_matrix(y, y_pred):\n",
        "    cm = confusion_matrix(y, y_pred)\n",
        "    plt.figure(figsize = (15, 15))\n",
        "    ax = plt.subplot()\n",
        "    plt.imshow(cm, interpolation = 'nearest', cmap = plt.cm.Purples)\n",
        "    plt.colorbar()\n",
        "    plt.title(\"Confusion Matrix\")\n",
        "    #tick_marks = np.arange(len(labels))\n",
        "    #plt.xticks(tick_marks, labels, rotation=45)\n",
        "    #plt.yticks(tick_marks, labels)\n",
        "    plt.ylabel('True label')\n",
        "    plt.xlabel('Predicted label')\n",
        "    ax.title.set_fontsize(20)\n",
        "    ax.xaxis.label.set_fontsize(16)\n",
        "    ax.yaxis.label.set_fontsize(16)\n",
        "    limit = cm.max() / 2.\n",
        "    for i, j in itertools.product(range(cm.shape[0]), range(cm.shape[1])):\n",
        "        plt.text(j, i, format(cm[i, j], 'd'), horizontalalignment = \"center\",color = \"white\" if cm[i, j] > limit else \"black\")\n",
        "    plt.show()\n",
        "\n",
        "from sklearn.metrics import confusion_matrix\n",
        "import itertools\n",
        "\n",
        "y_test_pred = model.predict(x_test, batch_size = 128, verbose = 0)\n",
        "plot_confusion_matrix(test, classes)"
      ],
      "metadata": {
        "colab": {
          "base_uri": "https://localhost:8080/",
          "height": 856
        },
        "id": "mhvXSy7-k9xs",
        "outputId": "4054e82e-5497-4e28-e248-46ff950a6491"
      },
      "execution_count": null,
      "outputs": [
        {
          "output_type": "display_data",
          "data": {
            "text/plain": [
              "<Figure size 1080x1080 with 2 Axes>"
            ],
            "image/png": "[encoded data removed]"
          },
          "metadata": {
            "needs_background": "light"
          }
        }
      ]
    },
    {
      "cell_type": "code",
      "source": [
        ""
      ],
      "metadata": {
        "id": "byK3xOYipu7x"
      },
      "execution_count": null,
      "outputs": []
    },
    {
      "cell_type": "code",
      "source": [
        "###################"
      ],
      "metadata": {
        "id": "VFgAxPeXpu-X"
      },
      "execution_count": null,
      "outputs": []
    },
    {
      "cell_type": "code",
      "source": [
        "!pip install tf-slim\n",
        "import os\n",
        "import numpy as np\n",
        "from PIL import Image\n",
        "from imageio import imread\n",
        "import tensorflow.compat.v1 as tf\n",
        "tf.disable_v2_behavior()\n",
        "import tf_slim as slim\n",
        "from tf_slim.nets import inception\n",
        "import tf_slim as slim\n",
        "import cv2\n",
        "import matplotlib.pyplot as plt"
      ],
      "metadata": {
        "colab": {
          "base_uri": "https://localhost:8080/"
        },
        "id": "YWu6gBlkpvnz",
        "outputId": "4e268208-eb09-46cf-a531-9573ea4c8ce5"
      },
      "execution_count": null,
      "outputs": [
        {
          "output_type": "stream",
          "name": "stdout",
          "text": [
            "Collecting tf-slim\n",
            "  Downloading tf_slim-1.1.0-py2.py3-none-any.whl (352 kB)\n",
            "\u001b[?25l\r\u001b[K     |█                               | 10 kB 24.2 MB/s eta 0:00:01\r\u001b[K     |█▉                              | 20 kB 29.6 MB/s eta 0:00:01\r\u001b[K     |██▉                             | 30 kB 25.8 MB/s eta 0:00:01\r\u001b[K     |███▊                            | 40 kB 12.4 MB/s eta 0:00:01\r\u001b[K     |████▋                           | 51 kB 11.6 MB/s eta 0:00:01\r\u001b[K     |█████▋                          | 61 kB 13.4 MB/s eta 0:00:01\r\u001b[K     |██████▌                         | 71 kB 13.1 MB/s eta 0:00:01\r\u001b[K     |███████▌                        | 81 kB 12.8 MB/s eta 0:00:01\r\u001b[K     |████████▍                       | 92 kB 14.0 MB/s eta 0:00:01\r\u001b[K     |█████████▎                      | 102 kB 12.6 MB/s eta 0:00:01\r\u001b[K     |██████████▎                     | 112 kB 12.6 MB/s eta 0:00:01\r\u001b[K     |███████████▏                    | 122 kB 12.6 MB/s eta 0:00:01\r\u001b[K     |████████████                    | 133 kB 12.6 MB/s eta 0:00:01\r\u001b[K     |█████████████                   | 143 kB 12.6 MB/s eta 0:00:01\r\u001b[K     |██████████████                  | 153 kB 12.6 MB/s eta 0:00:01\r\u001b[K     |███████████████                 | 163 kB 12.6 MB/s eta 0:00:01\r\u001b[K     |███████████████▉                | 174 kB 12.6 MB/s eta 0:00:01\r\u001b[K     |████████████████▊               | 184 kB 12.6 MB/s eta 0:00:01\r\u001b[K     |█████████████████▊              | 194 kB 12.6 MB/s eta 0:00:01\r\u001b[K     |██████████████████▋             | 204 kB 12.6 MB/s eta 0:00:01\r\u001b[K     |███████████████████▌            | 215 kB 12.6 MB/s eta 0:00:01\r\u001b[K     |████████████████████▌           | 225 kB 12.6 MB/s eta 0:00:01\r\u001b[K     |█████████████████████▍          | 235 kB 12.6 MB/s eta 0:00:01\r\u001b[K     |██████████████████████▍         | 245 kB 12.6 MB/s eta 0:00:01\r\u001b[K     |███████████████████████▎        | 256 kB 12.6 MB/s eta 0:00:01\r\u001b[K     |████████████████████████▏       | 266 kB 12.6 MB/s eta 0:00:01\r\u001b[K     |█████████████████████████▏      | 276 kB 12.6 MB/s eta 0:00:01\r\u001b[K     |██████████████████████████      | 286 kB 12.6 MB/s eta 0:00:01\r\u001b[K     |███████████████████████████     | 296 kB 12.6 MB/s eta 0:00:01\r\u001b[K     |████████████████████████████    | 307 kB 12.6 MB/s eta 0:00:01\r\u001b[K     |████████████████████████████▉   | 317 kB 12.6 MB/s eta 0:00:01\r\u001b[K     |█████████████████████████████▉  | 327 kB 12.6 MB/s eta 0:00:01\r\u001b[K     |██████████████████████████████▊ | 337 kB 12.6 MB/s eta 0:00:01\r\u001b[K     |███████████████████████████████▋| 348 kB 12.6 MB/s eta 0:00:01\r\u001b[K     |████████████████████████████████| 352 kB 12.6 MB/s \n",
            "\u001b[?25hRequirement already satisfied: absl-py>=0.2.2 in /usr/local/lib/python3.7/dist-packages (from tf-slim) (1.0.0)\n",
            "Requirement already satisfied: six in /usr/local/lib/python3.7/dist-packages (from absl-py>=0.2.2->tf-slim) (1.15.0)\n",
            "Installing collected packages: tf-slim\n",
            "Successfully installed tf-slim-1.1.0\n",
            "WARNING:tensorflow:From /usr/local/lib/python3.7/dist-packages/tensorflow/python/compat/v2_compat.py:107: disable_resource_variables (from tensorflow.python.ops.variable_scope) is deprecated and will be removed in a future version.\n",
            "Instructions for updating:\n",
            "non-resource variables are not supported in the long term\n"
          ]
        }
      ]
    },
    {
      "cell_type": "code",
      "source": [
        "####"
      ],
      "metadata": {
        "id": "wy1ZTmJHpysy"
      },
      "execution_count": null,
      "outputs": []
    },
    {
      "cell_type": "code",
      "source": [
        "from tensorflow.keras.applications.inception_v3 import InceptionV3"
      ],
      "metadata": {
        "id": "LWBZaOJYqouL"
      },
      "execution_count": null,
      "outputs": []
    },
    {
      "cell_type": "code",
      "source": [
        "pretrained_model=InceptionV3(input_shape=(150,150,3),\n",
        "                             include_top=False,\n",
        "                             weights='imagenet')"
      ],
      "metadata": {
        "colab": {
          "base_uri": "https://localhost:8080/"
        },
        "id": "3_zjZwDfqvxr",
        "outputId": "3d2eca8f-c865-4e20-f6c6-e47d828255fe"
      },
      "execution_count": null,
      "outputs": [
        {
          "output_type": "stream",
          "name": "stdout",
          "text": [
            "WARNING:tensorflow:From /usr/local/lib/python3.7/dist-packages/keras/layers/normalization/batch_normalization.py:532: _colocate_with (from tensorflow.python.framework.ops) is deprecated and will be removed in a future version.\n",
            "Instructions for updating:\n",
            "Colocations handled automatically by placer.\n",
            "Downloading data from https://storage.googleapis.com/tensorflow/keras-applications/inception_v3/inception_v3_weights_tf_dim_ordering_tf_kernels_notop.h5\n",
            "87916544/87910968 [==============================] - 1s 0us/step\n",
            "87924736/87910968 [==============================] - 1s 0us/step\n"
          ]
        }
      ]
    },
    {
      "cell_type": "code",
      "source": [
        "for layer in pretrained_model.layers:\n",
        "  layer.trainable=False"
      ],
      "metadata": {
        "id": "Oru6Ry2oq86M"
      },
      "execution_count": null,
      "outputs": []
    },
    {
      "cell_type": "code",
      "source": [
        ""
      ],
      "metadata": {
        "id": "y7DNkLf0rFFb"
      },
      "execution_count": null,
      "outputs": []
    }
  ],
  "metadata": {
    "accelerator": "GPU",
    "colab": {
      "name": "Copy_of_Copy_of_tr_INCEPTION.ipynb",
      "provenance": [],
      "collapsed_sections": []
    },
    "kernelspec": {
      "display_name": "Python 3",
      "name": "python3"
    },
    "language_info": {
      "name": "python"
    },
    "gpuClass": "standard"
  },
  "nbformat": 4,
  "nbformat_minor": 0
}