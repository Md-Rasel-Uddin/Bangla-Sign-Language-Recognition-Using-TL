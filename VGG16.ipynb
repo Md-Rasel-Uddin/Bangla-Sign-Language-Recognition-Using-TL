{
  "cells": [
    {
      "cell_type": "code",
      "execution_count": null,
      "metadata": {
        "id": "9u5gWo8XOrbE"
      },
      "outputs": [],
      "source": [
        "######################"
      ]
    },
    {
      "cell_type": "code",
      "source": [
        "from google.colab import drive\n",
        "drive.mount('/content/drive')"
      ],
      "metadata": {
        "colab": {
          "base_uri": "https://localhost:8080/"
        },
        "id": "o5HAmAJcZb-3",
        "outputId": "b330a351-9669-47d4-aff9-86f4645a6bc3"
      },
      "execution_count": null,
      "outputs": [
        {
          "output_type": "stream",
          "name": "stdout",
          "text": [
            "Mounted at /content/drive\n"
          ]
        }
      ]
    },
    {
      "cell_type": "code",
      "execution_count": null,
      "metadata": {
        "id": "4xSLyIOlOsSE"
      },
      "outputs": [],
      "source": [
        "from keras.layers import Input, Lambda, Dense, Flatten\n",
        "from keras.models import Model\n",
        "from keras.applications.vgg16 import VGG16\n",
        "from keras.applications.vgg16 import preprocess_input\n",
        "from keras.preprocessing import image\n",
        "from keras.preprocessing.image import ImageDataGenerator\n",
        "from keras.models import Sequential\n",
        "import numpy as np\n",
        "from glob import glob\n",
        "import matplotlib.pyplot as plt"
      ]
    },
    {
      "cell_type": "code",
      "execution_count": null,
      "metadata": {
        "id": "TDU4HAh6OsUd"
      },
      "outputs": [],
      "source": [
        "IMAGE_SIZE = [224, 224]"
      ]
    },
    {
      "cell_type": "code",
      "execution_count": null,
      "metadata": {
        "id": "4iwUdRDEOsWt"
      },
      "outputs": [],
      "source": [
        "train_path = '/content/drive/MyDrive/Research/FFF/Train'\n",
        "valid_path = '/content/drive/MyDrive/Research/FFF/Test'\n"
      ]
    },
    {
      "cell_type": "code",
      "execution_count": null,
      "metadata": {
        "colab": {
          "base_uri": "https://localhost:8080/"
        },
        "id": "xQrrjL3IOsZO",
        "outputId": "f0914e54-cff3-4d0f-b006-782bbeb8020b"
      },
      "outputs": [
        {
          "output_type": "stream",
          "name": "stdout",
          "text": [
            "Downloading data from https://storage.googleapis.com/tensorflow/keras-applications/vgg16/vgg16_weights_tf_dim_ordering_tf_kernels_notop.h5\n",
            "58892288/58889256 [==============================] - 0s 0us/step\n",
            "58900480/58889256 [==============================] - 0s 0us/step\n"
          ]
        }
      ],
      "source": [
        "vgg = VGG16(input_shape=IMAGE_SIZE + [3], weights='imagenet', include_top=False)\n"
      ]
    },
    {
      "cell_type": "code",
      "execution_count": null,
      "metadata": {
        "id": "cwYemc8lOsbU"
      },
      "outputs": [],
      "source": [
        "for layer in vgg.layers:\n",
        "  layer.trainable = False"
      ]
    },
    {
      "cell_type": "code",
      "execution_count": null,
      "metadata": {
        "id": "6WDA4_czPn5p"
      },
      "outputs": [],
      "source": [
        "folders = glob('/content/drive/MyDrive/Research/FFF/Train/*')"
      ]
    },
    {
      "cell_type": "code",
      "execution_count": null,
      "metadata": {
        "id": "0XGYvdMxPsYj"
      },
      "outputs": [],
      "source": [
        "x = Flatten()(vgg.output)\n",
        "# x = Dense(1000, activation='relu')(x)\n",
        "prediction = Dense(len(folders), activation='softmax')(x)\n"
      ]
    },
    {
      "cell_type": "code",
      "execution_count": null,
      "metadata": {
        "id": "JbkX5xJAPuTr"
      },
      "outputs": [],
      "source": [
        "model = Model(inputs=vgg.input, outputs=prediction)\n"
      ]
    },
    {
      "cell_type": "code",
      "execution_count": null,
      "metadata": {
        "colab": {
          "base_uri": "https://localhost:8080/"
        },
        "id": "T3lKv881PyCT",
        "outputId": "f0b18ba6-9440-434a-c2e1-26976a788ea4"
      },
      "outputs": [
        {
          "output_type": "stream",
          "name": "stdout",
          "text": [
            "Model: \"model\"\n",
            "_________________________________________________________________\n",
            " Layer (type)                Output Shape              Param #   \n",
            "=================================================================\n",
            " input_1 (InputLayer)        [(None, 224, 224, 3)]     0         \n",
            "                                                                 \n",
            " block1_conv1 (Conv2D)       (None, 224, 224, 64)      1792      \n",
            "                                                                 \n",
            " block1_conv2 (Conv2D)       (None, 224, 224, 64)      36928     \n",
            "                                                                 \n",
            " block1_pool (MaxPooling2D)  (None, 112, 112, 64)      0         \n",
            "                                                                 \n",
            " block2_conv1 (Conv2D)       (None, 112, 112, 128)     73856     \n",
            "                                                                 \n",
            " block2_conv2 (Conv2D)       (None, 112, 112, 128)     147584    \n",
            "                                                                 \n",
            " block2_pool (MaxPooling2D)  (None, 56, 56, 128)       0         \n",
            "                                                                 \n",
            " block3_conv1 (Conv2D)       (None, 56, 56, 256)       295168    \n",
            "                                                                 \n",
            " block3_conv2 (Conv2D)       (None, 56, 56, 256)       590080    \n",
            "                                                                 \n",
            " block3_conv3 (Conv2D)       (None, 56, 56, 256)       590080    \n",
            "                                                                 \n",
            " block3_pool (MaxPooling2D)  (None, 28, 28, 256)       0         \n",
            "                                                                 \n",
            " block4_conv1 (Conv2D)       (None, 28, 28, 512)       1180160   \n",
            "                                                                 \n",
            " block4_conv2 (Conv2D)       (None, 28, 28, 512)       2359808   \n",
            "                                                                 \n",
            " block4_conv3 (Conv2D)       (None, 28, 28, 512)       2359808   \n",
            "                                                                 \n",
            " block4_pool (MaxPooling2D)  (None, 14, 14, 512)       0         \n",
            "                                                                 \n",
            " block5_conv1 (Conv2D)       (None, 14, 14, 512)       2359808   \n",
            "                                                                 \n",
            " block5_conv2 (Conv2D)       (None, 14, 14, 512)       2359808   \n",
            "                                                                 \n",
            " block5_conv3 (Conv2D)       (None, 14, 14, 512)       2359808   \n",
            "                                                                 \n",
            " block5_pool (MaxPooling2D)  (None, 7, 7, 512)         0         \n",
            "                                                                 \n",
            " flatten (Flatten)           (None, 25088)             0         \n",
            "                                                                 \n",
            " dense (Dense)               (None, 11)                275979    \n",
            "                                                                 \n",
            "=================================================================\n",
            "Total params: 14,990,667\n",
            "Trainable params: 275,979\n",
            "Non-trainable params: 14,714,688\n",
            "_________________________________________________________________\n"
          ]
        }
      ],
      "source": [
        "model.summary()\n"
      ]
    },
    {
      "cell_type": "code",
      "execution_count": null,
      "metadata": {
        "id": "7QHgB0yCPzWD"
      },
      "outputs": [],
      "source": [
        "model.compile(\n",
        "  loss='categorical_crossentropy',\n",
        "  optimizer='adam',\n",
        "  metrics=['accuracy']\n",
        ")"
      ]
    },
    {
      "cell_type": "code",
      "execution_count": null,
      "metadata": {
        "colab": {
          "base_uri": "https://localhost:8080/"
        },
        "id": "LVSswf3EP6rQ",
        "outputId": "444544b1-3367-4461-b96a-de833a32cb1b"
      },
      "outputs": [
        {
          "output_type": "stream",
          "name": "stdout",
          "text": [
            "Found 3835 images belonging to 11 classes.\n",
            "Found 764 images belonging to 11 classes.\n"
          ]
        }
      ],
      "source": [
        "\n",
        "from keras.preprocessing.image import ImageDataGenerator\n",
        "\n",
        "train_datagen = ImageDataGenerator(rescale = 1./255,\n",
        "                                   shear_range = 0.2,\n",
        "                                   zoom_range = 0.2,\n",
        "                                   horizontal_flip = True)\n",
        "\n",
        "test_datagen = ImageDataGenerator(rescale = 1./255)\n",
        "\n",
        "training_set = train_datagen.flow_from_directory('/content/drive/MyDrive/Research/FFF/Train',\n",
        "                                                 target_size = (224, 224),\n",
        "                                                 batch_size = 128,\n",
        "                                                 class_mode = 'categorical')\n",
        "\n",
        "test_set = test_datagen.flow_from_directory('/content/drive/MyDrive/Research/FFF/Test',\n",
        "                                            target_size = (224, 224),\n",
        "                                            batch_size = 128,\n",
        "                                            class_mode = 'categorical')"
      ]
    },
    {
      "cell_type": "code",
      "execution_count": null,
      "metadata": {
        "colab": {
          "base_uri": "https://localhost:8080/"
        },
        "id": "MSIJYXG1QLiT",
        "outputId": "7d51749a-9d8d-4826-b1ab-bf252996d2e9"
      },
      "outputs": [
        {
          "output_type": "stream",
          "name": "stdout",
          "text": [
            "Epoch 1/25\n",
            "30/30 [==============================] - 2491s 83s/step - loss: 1.4258 - accuracy: 0.5617 - val_loss: 0.8948 - val_accuracy: 0.7395\n",
            "Epoch 2/25\n",
            "30/30 [==============================] - 60s 2s/step - loss: 0.4700 - accuracy: 0.8754 - val_loss: 0.6232 - val_accuracy: 0.8194\n",
            "Epoch 3/25\n",
            "30/30 [==============================] - 60s 2s/step - loss: 0.3127 - accuracy: 0.9244 - val_loss: 0.5324 - val_accuracy: 0.8455\n",
            "Epoch 4/25\n",
            "30/30 [==============================] - 58s 2s/step - loss: 0.2204 - accuracy: 0.9515 - val_loss: 0.5080 - val_accuracy: 0.8717\n",
            "Epoch 5/25\n",
            "30/30 [==============================] - 59s 2s/step - loss: 0.1790 - accuracy: 0.9651 - val_loss: 0.4233 - val_accuracy: 0.8809\n",
            "Epoch 6/25\n",
            "30/30 [==============================] - 60s 2s/step - loss: 0.1474 - accuracy: 0.9726 - val_loss: 0.4438 - val_accuracy: 0.8796\n",
            "Epoch 7/25\n",
            "30/30 [==============================] - 58s 2s/step - loss: 0.1193 - accuracy: 0.9833 - val_loss: 0.3618 - val_accuracy: 0.9071\n",
            "Epoch 8/25\n",
            "30/30 [==============================] - 60s 2s/step - loss: 0.0997 - accuracy: 0.9857 - val_loss: 0.3512 - val_accuracy: 0.9188\n",
            "Epoch 9/25\n",
            "30/30 [==============================] - 60s 2s/step - loss: 0.0905 - accuracy: 0.9870 - val_loss: 0.4245 - val_accuracy: 0.8992\n",
            "Epoch 10/25\n",
            "30/30 [==============================] - 58s 2s/step - loss: 0.0738 - accuracy: 0.9919 - val_loss: 0.3992 - val_accuracy: 0.9031\n",
            "Epoch 11/25\n",
            "30/30 [==============================] - 60s 2s/step - loss: 0.0727 - accuracy: 0.9898 - val_loss: 0.4072 - val_accuracy: 0.9031\n",
            "Epoch 12/25\n",
            "30/30 [==============================] - 60s 2s/step - loss: 0.0663 - accuracy: 0.9904 - val_loss: 0.3634 - val_accuracy: 0.9031\n",
            "Epoch 13/25\n",
            "30/30 [==============================] - 59s 2s/step - loss: 0.0499 - accuracy: 0.9969 - val_loss: 0.4028 - val_accuracy: 0.9005\n",
            "Epoch 14/25\n",
            "30/30 [==============================] - 59s 2s/step - loss: 0.0484 - accuracy: 0.9948 - val_loss: 0.3579 - val_accuracy: 0.9071\n",
            "Epoch 15/25\n",
            "30/30 [==============================] - 59s 2s/step - loss: 0.0440 - accuracy: 0.9958 - val_loss: 0.3703 - val_accuracy: 0.9149\n",
            "Epoch 16/25\n",
            "30/30 [==============================] - 59s 2s/step - loss: 0.0395 - accuracy: 0.9963 - val_loss: 0.3637 - val_accuracy: 0.9175\n",
            "Epoch 17/25\n",
            "30/30 [==============================] - 58s 2s/step - loss: 0.0343 - accuracy: 0.9984 - val_loss: 0.3448 - val_accuracy: 0.9136\n",
            "Epoch 18/25\n",
            "30/30 [==============================] - 59s 2s/step - loss: 0.0314 - accuracy: 0.9974 - val_loss: 0.3814 - val_accuracy: 0.9031\n",
            "Epoch 19/25\n",
            "30/30 [==============================] - 59s 2s/step - loss: 0.0319 - accuracy: 0.9979 - val_loss: 0.3759 - val_accuracy: 0.9175\n",
            "Epoch 20/25\n",
            "30/30 [==============================] - 58s 2s/step - loss: 0.0279 - accuracy: 0.9984 - val_loss: 0.3525 - val_accuracy: 0.9202\n",
            "Epoch 21/25\n",
            "30/30 [==============================] - 59s 2s/step - loss: 0.0288 - accuracy: 0.9979 - val_loss: 0.3660 - val_accuracy: 0.9175\n",
            "Epoch 22/25\n",
            "30/30 [==============================] - 59s 2s/step - loss: 0.0248 - accuracy: 0.9990 - val_loss: 0.3633 - val_accuracy: 0.9149\n",
            "Epoch 23/25\n",
            "30/30 [==============================] - 58s 2s/step - loss: 0.0251 - accuracy: 0.9977 - val_loss: 0.3724 - val_accuracy: 0.9202\n",
            "Epoch 24/25\n",
            "30/30 [==============================] - 60s 2s/step - loss: 0.0248 - accuracy: 0.9984 - val_loss: 0.3569 - val_accuracy: 0.9175\n",
            "Epoch 25/25\n",
            "30/30 [==============================] - 60s 2s/step - loss: 0.0205 - accuracy: 0.9992 - val_loss: 0.3449 - val_accuracy: 0.9241\n"
          ]
        }
      ],
      "source": [
        "r = model.fit(\n",
        "  training_set,\n",
        "  validation_data=test_set,\n",
        "  epochs=25,\n",
        "  steps_per_epoch=len(training_set),\n",
        "  validation_steps=len(test_set)\n",
        ")"
      ]
    },
    {
      "cell_type": "code",
      "execution_count": null,
      "metadata": {
        "colab": {
          "base_uri": "https://localhost:8080/",
          "height": 312
        },
        "id": "haKv3mDFQSTb",
        "outputId": "821a282d-d1e1-4209-ec93-392f7e3bd6b6"
      },
      "outputs": [
        {
          "output_type": "display_data",
          "data": {
            "text/plain": [
              "<Figure size 432x288 with 1 Axes>"
            ],
            "image/png": "[encoded data removed]"
          },
          "metadata": {
            "needs_background": "light"
          }
        },
        {
          "output_type": "display_data",
          "data": {
            "text/plain": [
              "<Figure size 432x288 with 0 Axes>"
            ]
          },
          "metadata": {}
        }
      ],
      "source": [
        "# loss\n",
        "plt.plot(r.history['loss'],'o-', label='Train loss')\n",
        "plt.plot(r.history['val_loss'],'o-', label='Validation loss')\n",
        "plt.title(\"Loss of Model VGG16\")\n",
        "plt.xlabel(\"Epoch\")\n",
        "plt.ylabel(\"Loss\")\n",
        "plt.legend()\n",
        "plt.show()\n",
        "plt.savefig('LossVal_loss2')\n"
      ]
    },
    {
      "cell_type": "code",
      "source": [
        "# accuracy\n",
        "plt.plot(r.history['accuracy'],'o-', label='Train accuracy')\n",
        "plt.plot(r.history['val_accuracy'],'o-', label='Val accuracy')\n",
        "plt.title(\"Accuracy of Model VGG16\")\n",
        "plt.xlabel('Epoch')\n",
        "plt.ylabel('Accuracy')\n",
        "plt.legend()\n",
        "plt.show()\n",
        "plt.savefig('AccVal_acc')\n"
      ],
      "metadata": {
        "colab": {
          "base_uri": "https://localhost:8080/",
          "height": 312
        },
        "id": "j8DWN3wMp1gt",
        "outputId": "e9921f0c-0a19-493b-902d-64de396bc67b"
      },
      "execution_count": null,
      "outputs": [
        {
          "output_type": "display_data",
          "data": {
            "text/plain": [
              "<Figure size 432x288 with 1 Axes>"
            ],
            "image/png": "[encoded data removed]"
          },
          "metadata": {
            "needs_background": "light"
          }
        },
        {
          "output_type": "display_data",
          "data": {
            "text/plain": [
              "<Figure size 432x288 with 0 Axes>"
            ]
          },
          "metadata": {}
        }
      ]
    },
    {
      "cell_type": "code",
      "source": [
        "from sklearn.metrics import confusion_matrix\n",
        "import seaborn as sns\n",
        "\n",
        "val_ds = test_set\n",
        "x_test, y_test = next(val_ds)\n",
        "y_predict = model.predict(x_test)\n",
        "classes = np.argmax(y_predict, axis = 1)\n",
        "test = np.argmax(y_test, axis = 1)\n",
        "\n",
        "cf = confusion_matrix(test, classes)\n",
        "plt.figure(figsize=(12, 8))\n",
        "ax = sns.heatmap(cf, annot= True )\n",
        "\n",
        "plt.title('Confusion matrix of VGG16', fontsize = 15) \n",
        "plt.xlabel('Predicted classes', fontsize = 10) \n",
        "plt.ylabel('Actual classes', fontsize = 10) \n",
        "\n",
        "plt.show()"
      ],
      "metadata": {
        "colab": {
          "base_uri": "https://localhost:8080/",
          "height": 515
        },
        "id": "rw5f6mebp1nM",
        "outputId": "106ed8c6-7a08-4189-8791-1d6c9b6a49bd"
      },
      "execution_count": null,
      "outputs": [
        {
          "output_type": "display_data",
          "data": {
            "text/plain": [
              "<Figure size 864x576 with 2 Axes>"
            ],
            "image/png": "[encoded data removed]"
          },
          "metadata": {
            "needs_background": "light"
          }
        }
      ]
    },
    {
      "cell_type": "code",
      "source": [
        "\n",
        "import tensorflow as tf\n",
        "\n",
        "from keras.models import load_model\n",
        "\n",
        "model.save('25_inception_facefeatures_new_model.h5')"
      ],
      "metadata": {
        "id": "fXImHyuop1pg"
      },
      "execution_count": null,
      "outputs": []
    },
    {
      "cell_type": "code",
      "source": [
        "########### End ###############"
      ],
      "metadata": {
        "id": "20LxzXbdp1sB"
      },
      "execution_count": null,
      "outputs": []
    },
    {
      "cell_type": "code",
      "source": [
        "#### TEsting accuracy"
      ],
      "metadata": {
        "id": "Xr3nGTwOZ1l8"
      },
      "execution_count": null,
      "outputs": []
    },
    {
      "cell_type": "code",
      "source": [
        "from sklearn.metrics import accuracy_score\n",
        "print('the accuracy obtained on the test set is:', accuracy_score(classes,test))"
      ],
      "metadata": {
        "colab": {
          "base_uri": "https://localhost:8080/"
        },
        "id": "cB9rtqH-p1uG",
        "outputId": "691626b5-29cf-4a11-c1ee-0c00d5c3fc85"
      },
      "execution_count": null,
      "outputs": [
        {
          "output_type": "stream",
          "name": "stdout",
          "text": [
            "the accuracy obtained on the test set is: 0.9453125\n"
          ]
        }
      ]
    },
    {
      "cell_type": "code",
      "source": [
        "from sklearn.metrics import classification_report\n",
        "print(classification_report(test, classes))"
      ],
      "metadata": {
        "colab": {
          "base_uri": "https://localhost:8080/"
        },
        "id": "wdY6TbtqqXkk",
        "outputId": "c8ae7b81-b2cc-4274-ad64-b9b53b272ccf"
      },
      "execution_count": null,
      "outputs": [
        {
          "output_type": "stream",
          "name": "stdout",
          "text": [
            "              precision    recall  f1-score   support\n",
            "\n",
            "           0       0.86      1.00      0.92         6\n",
            "           1       0.64      1.00      0.78         7\n",
            "           2       1.00      1.00      1.00        10\n",
            "           3       0.83      0.50      0.62        10\n",
            "           4       1.00      1.00      1.00         5\n",
            "           5       1.00      1.00      1.00         5\n",
            "           6       1.00      0.94      0.97        18\n",
            "           7       0.94      1.00      0.97        17\n",
            "           8       1.00      1.00      1.00        11\n",
            "           9       1.00      1.00      1.00        21\n",
            "          10       1.00      0.94      0.97        18\n",
            "\n",
            "    accuracy                           0.95       128\n",
            "   macro avg       0.93      0.94      0.93       128\n",
            "weighted avg       0.95      0.95      0.94       128\n",
            "\n"
          ]
        }
      ]
    },
    {
      "cell_type": "code",
      "source": [
        "def plot_confusion_matrix(y, y_pred):\n",
        "    cm = confusion_matrix(y, y_pred)\n",
        "    plt.figure(figsize = (15, 15))\n",
        "    ax = plt.subplot()\n",
        "    plt.imshow(cm, interpolation = 'nearest', cmap = plt.cm.Purples)\n",
        "    plt.colorbar()\n",
        "    plt.title(\"Confusion Matrix\")\n",
        "    #tick_marks = np.arange(len(labels))\n",
        "    #plt.xticks(tick_marks, labels, rotation=45)\n",
        "    #plt.yticks(tick_marks, labels)\n",
        "    plt.ylabel('True label')\n",
        "    plt.xlabel('Predicted label')\n",
        "    ax.title.set_fontsize(20)\n",
        "    ax.xaxis.label.set_fontsize(16)\n",
        "    ax.yaxis.label.set_fontsize(16)\n",
        "    limit = cm.max() / 2.\n",
        "    for i, j in itertools.product(range(cm.shape[0]), range(cm.shape[1])):\n",
        "        plt.text(j, i, format(cm[i, j], 'd'), horizontalalignment = \"center\",color = \"white\" if cm[i, j] > limit else \"black\")\n",
        "    plt.show()\n",
        "\n",
        "from sklearn.metrics import confusion_matrix\n",
        "import itertools\n",
        "\n",
        "y_test_pred = model.predict(x_test, batch_size = 128, verbose = 0)\n",
        "plot_confusion_matrix(test, classes)"
      ],
      "metadata": {
        "colab": {
          "base_uri": "https://localhost:8080/",
          "height": 852
        },
        "id": "yZ8PoDJ7qac-",
        "outputId": "01e07032-db84-472c-b384-8d12490cce83"
      },
      "execution_count": null,
      "outputs": [
        {
          "output_type": "display_data",
          "data": {
            "text/plain": [
              "<Figure size 1080x1080 with 2 Axes>"
            ],
            "image/png": "[encoded data removed]"
          },
          "metadata": {
            "needs_background": "light"
          }
        }
      ]
    },
    {
      "cell_type": "code",
      "source": [
        ""
      ],
      "metadata": {
        "id": "rQT1JazJqcW2"
      },
      "execution_count": null,
      "outputs": []
    }
  ],
  "metadata": {
    "accelerator": "GPU",
    "colab": {
      "name": "Copy_of_tr_VGG16.ipynb",
      "provenance": [],
      "collapsed_sections": []
    },
    "kernelspec": {
      "display_name": "Python 3",
      "name": "python3"
    },
    "language_info": {
      "name": "python"
    },
    "gpuClass": "standard"
  },
  "nbformat": 4,
  "nbformat_minor": 0
}